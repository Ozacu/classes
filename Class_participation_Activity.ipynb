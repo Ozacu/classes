{
  "nbformat": 4,
  "nbformat_minor": 0,
  "metadata": {
    "colab": {
      "provenance": [],
      "authorship_tag": "ABX9TyMGxod8ib1WAsmAJ5ZdHOAS"
    },
    "kernelspec": {
      "name": "python3",
      "display_name": "Python 3"
    },
    "language_info": {
      "name": "python"
    }
  },
  "cells": [
    {
      "cell_type": "markdown",
      "source": [
        "Print 10 next numbers, starting with a given number, using recursion"
      ],
      "metadata": {
        "id": "iOSSLxxfHyzL"
      }
    },
    {
      "cell_type": "code",
      "execution_count": 10,
      "metadata": {
        "colab": {
          "base_uri": "https://localhost:8080/"
        },
        "id": "eSLUp_73HwGU",
        "outputId": "32f37343-848b-4f98-ca3e-4f2105fb8853"
      },
      "outputs": [
        {
          "output_type": "stream",
          "name": "stdout",
          "text": [
            "Enter number: 10\n",
            "10\n",
            "11\n",
            "12\n",
            "13\n",
            "14\n",
            "15\n",
            "16\n",
            "17\n",
            "18\n",
            "19\n",
            "20\n"
          ]
        }
      ],
      "source": [
        "def number(n, count=11):\n",
        "    if count == 0:\n",
        "        return\n",
        "    print(n)\n",
        "    print_next_numbers(n + 1)\n",
        "\n",
        "start_number = int(input(\"Enter number: \"))\n",
        "number(start_number)"
      ]
    }
  ]
}