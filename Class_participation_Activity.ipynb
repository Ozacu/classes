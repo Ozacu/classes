{
  "nbformat": 4,
  "nbformat_minor": 0,
  "metadata": {
    "colab": {
      "provenance": [],
      "authorship_tag": "ABX9TyNZ6IHuP2SsIVqmJF4oh2mP"
    },
    "kernelspec": {
      "name": "python3",
      "display_name": "Python 3"
    },
    "language_info": {
      "name": "python"
    }
  },
  "cells": [
    {
      "cell_type": "markdown",
      "source": [
        "Print 10 next numbers, starting with a given number, using recursion"
      ],
      "metadata": {
        "id": "iOSSLxxfHyzL"
      }
    },
    {
      "cell_type": "code",
      "execution_count": 18,
      "metadata": {
        "colab": {
          "base_uri": "https://localhost:8080/"
        },
        "id": "eSLUp_73HwGU",
        "outputId": "c21070b0-0694-48d8-8336-6bf8179e5589"
      },
      "outputs": [
        {
          "output_type": "stream",
          "name": "stdout",
          "text": [
            "10\n",
            "11\n",
            "12\n",
            "13\n",
            "14\n",
            "15\n",
            "16\n",
            "17\n",
            "18\n",
            "19\n",
            "20\n"
          ]
        }
      ],
      "source": [
        "def numbers(n, count=11):\n",
        "    if count == 0:\n",
        "        return\n",
        "    print(n)\n",
        "    numbers(n + 1, count - 1)\n",
        "\n",
        "numbers(10)"
      ]
    }
  ]
}