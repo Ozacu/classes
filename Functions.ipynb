{
  "nbformat": 4,
  "nbformat_minor": 0,
  "metadata": {
    "colab": {
      "provenance": [],
      "authorship_tag": "ABX9TyNKWNVHbdsmnuWQtwEj7OZj"
    },
    "kernelspec": {
      "name": "python3",
      "display_name": "Python 3"
    },
    "language_info": {
      "name": "python"
    }
  },
  "cells": [
    {
      "cell_type": "markdown",
      "source": [
        "# **Functions**"
      ],
      "metadata": {
        "id": "sPui8YrBp48T"
      }
    },
    {
      "cell_type": "markdown",
      "source": [
        "Come up with a function that divides the first input by the second input:"
      ],
      "metadata": {
        "id": "ZHW6cAf7p97H"
      }
    },
    {
      "cell_type": "code",
      "source": [
        "def div(a, b):\n",
        "    return(a/b)"
      ],
      "metadata": {
        "id": "i0JXElT4p-DB"
      },
      "execution_count": 9,
      "outputs": []
    },
    {
      "cell_type": "markdown",
      "source": [
        "Use the function con for the following question."
      ],
      "metadata": {
        "id": "pSBlw-Ryp-Kx"
      }
    },
    {
      "cell_type": "code",
      "source": [
        "def con(a, b):\n",
        "    return(a + b)\n",
        "#Can the con function we defined before be used to add two integers or strings?\n",
        "Yes: con(1, 1)"
      ],
      "metadata": {
        "id": "GG1nY-qIp-SL"
      },
      "execution_count": 12,
      "outputs": []
    },
    {
      "cell_type": "markdown",
      "source": [
        "Can the con function we defined before be used to concatenate lists or tuples?"
      ],
      "metadata": {
        "id": "ijMRGkPHp-aN"
      }
    },
    {
      "cell_type": "code",
      "source": [
        "Yes: con(['a', 1], ['b',2])"
      ],
      "metadata": {
        "id": "4xfv9v49p-im"
      },
      "execution_count": 14,
      "outputs": []
    },
    {
      "cell_type": "markdown",
      "source": [
        "Write a function code to find total count of word little in the given string: \"Mary had a little lamb Little lamb, little lamb Mary had a little lamb.Its fleece was white as snow And everywhere that Mary went Mary went, Mary went Everywhere that Mary went The lamb was sure to go\"**"
      ],
      "metadata": {
        "id": "1ur_yTdQp-rs"
      }
    },
    {
      "cell_type": "code",
      "source": [
        "def freq(string,passedkey):\n",
        "    words = []\n",
        "    words = string.split()\n",
        "    Dict = {}\n",
        "    for key in words:\n",
        "        if(key == passedkey):\n",
        "            Dict[key] = words.count(key)\n",
        "    print(\"Total Count:\",Dict)\n",
        "\n",
        "freq(\"Mary had a little lamb Little lamb, little lamb Mary had a little lamb.Its fleece was white as snow And everywhere that Mary went Mary went, Mary went \\\n",
        "Everywhere that Mary went The lamb was sure to go\",\"little\")"
      ],
      "metadata": {
        "colab": {
          "base_uri": "https://localhost:8080/"
        },
        "id": "PY6ZQd0-p-zV",
        "outputId": "75d983ca-e928-4ffb-9c47-a9e27509b709"
      },
      "execution_count": 15,
      "outputs": [
        {
          "output_type": "stream",
          "name": "stdout",
          "text": [
            "Total Count: {'little': 3}\n"
          ]
        }
      ]
    }
  ]
}