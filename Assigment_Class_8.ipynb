{
  "nbformat": 4,
  "nbformat_minor": 0,
  "metadata": {
    "colab": {
      "provenance": [],
      "authorship_tag": "ABX9TyOBncHK3U+djJgQVkHEcC0+"
    },
    "kernelspec": {
      "name": "python3",
      "display_name": "Python 3"
    },
    "language_info": {
      "name": "python"
    }
  },
  "cells": [
    {
      "cell_type": "markdown",
      "source": [
        "Assigment Class 8\n",
        "\n",
        "You a list of integers. Write a function in python to return the frequency of each number in the list.\n",
        "\n",
        "numbers= [10,40,50,14,40,10]\n",
        "What will be your return type?"
      ],
      "metadata": {
        "id": "XjV0jBcCW-HE"
      }
    },
    {
      "cell_type": "code",
      "execution_count": 2,
      "metadata": {
        "colab": {
          "base_uri": "https://localhost:8080/"
        },
        "id": "5-yZv6eSW7Cf",
        "outputId": "2cd62675-65bd-4047-f401-b0a20b2e4f66"
      },
      "outputs": [
        {
          "output_type": "stream",
          "name": "stdout",
          "text": [
            "{10: 2, 40: 2, 50: 1, 14: 1}\n"
          ]
        }
      ],
      "source": [
        "numbers= [10,40,50,14,40,10]\n",
        "def get_frequency(numbers):\n",
        "    frequency = {}\n",
        "    for num in numbers:\n",
        "        frequency[num] = frequency.get(num, 0) + 1\n",
        "    return frequency\n",
        "\n",
        "print(get_frequency(numbers))"
      ]
    }
  ]
}