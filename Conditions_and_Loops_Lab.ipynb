{
  "nbformat": 4,
  "nbformat_minor": 0,
  "metadata": {
    "colab": {
      "provenance": [],
      "authorship_tag": "ABX9TyNMz2y8cZxAgvEMecG/gXYE"
    },
    "kernelspec": {
      "name": "python3",
      "display_name": "Python 3"
    },
    "language_info": {
      "name": "python"
    }
  },
  "cells": [
    {
      "cell_type": "code",
      "execution_count": 7,
      "metadata": {
        "colab": {
          "base_uri": "https://localhost:8080/"
        },
        "id": "pp6e2DdqMHsx",
        "outputId": "a03aa4b7-9886-4d3d-d17a-63670d063106"
      },
      "outputs": [
        {
          "output_type": "stream",
          "name": "stdout",
          "text": [
            "Hello Castro\n"
          ]
        }
      ],
      "source": [
        "firstName = \"Oscar\"\n",
        "lastName = \"Castro\"\n",
        "lengthOfFirstName = len(firstName)\n",
        "lengthOfLastName = len(lastName)\n",
        "\n",
        "if (lengthOfFirstName == lengthOfLastName):\n",
        "  print(\"Hello \" + firstName + lastName)\n",
        "else:\n",
        "  if(lengthOfFirstName > lengthOfLastName):\n",
        "    print(\"Hello \" + firstName)\n",
        "  else:\n",
        "    print(\"Hello \" + lastName)"
      ]
    },
    {
      "cell_type": "markdown",
      "source": [
        "What happens when len(str) is not available in python framework?\n",
        "\n",
        "In that case we will define our own len function. In this case become user defined function.\n",
        "\n",
        "But what logic or algorith will you use to implement your len function?\n",
        "\n",
        "count the letters in the world.\n",
        "word = \"I live in Vancouver.\"\n",
        "\n",
        "lenght = 0\n",
        "we will first from the firts character and increment the lenght variable for each character until the end of the string.\n",
        "\n",
        "list or array"
      ],
      "metadata": {
        "id": "Tg6FgN5cSazE"
      }
    },
    {
      "cell_type": "code",
      "source": [
        "word = \"I live in Vancouver.\"\n",
        "lenght = 0\n",
        "for c in word:\n",
        "  lenght = lenght+1\n",
        "\n",
        "print(lenght)\n"
      ],
      "metadata": {
        "colab": {
          "base_uri": "https://localhost:8080/"
        },
        "id": "r4RR8RViT3SV",
        "outputId": "21cad1bd-fe4b-409f-df71-de4f9933b2a4"
      },
      "execution_count": 11,
      "outputs": [
        {
          "output_type": "stream",
          "name": "stdout",
          "text": [
            "20\n"
          ]
        }
      ]
    },
    {
      "cell_type": "code",
      "source": [
        "students = [\"A\",\"B\",\"C\"]\n",
        "for students in students:\n",
        "  print(students)"
      ],
      "metadata": {
        "colab": {
          "base_uri": "https://localhost:8080/"
        },
        "id": "kFq0IM5LZYAH",
        "outputId": "16dba0ff-e093-4888-d925-c960e1c80018"
      },
      "execution_count": 14,
      "outputs": [
        {
          "output_type": "stream",
          "name": "stdout",
          "text": [
            "A\n",
            "B\n",
            "C\n"
          ]
        }
      ]
    },
    {
      "cell_type": "markdown",
      "source": [
        "## **Conditions**"
      ],
      "metadata": {
        "id": "SVbvsrqwcHy6"
      }
    },
    {
      "cell_type": "markdown",
      "source": [
        "1. There are 2 sisters, Annie and Jane, born in 1996 and 1999 respectively. They want to know who was born in a leap year. Write an if-else statement to determine who was born in a leap year."
      ],
      "metadata": {
        "id": "r5imfRKRcQsl"
      }
    },
    {
      "cell_type": "code",
      "source": [
        "Annie = 1996\n",
        "Jane = 1999\n",
        "if Annie%4 == 0:\n",
        "    print(\"Annie was born in a leap year\")\n",
        "elif Jane%4 == 0:\n",
        "    print(\"Jane was born in a leap year\")\n",
        "else:\n",
        "    print(\"None of them were born in a leap year\")"
      ],
      "metadata": {
        "colab": {
          "base_uri": "https://localhost:8080/"
        },
        "id": "2zKv2wSJcNRD",
        "outputId": "7c81b820-76d0-4083-e8f8-53c590a8dd70"
      },
      "execution_count": 40,
      "outputs": [
        {
          "output_type": "stream",
          "name": "stdout",
          "text": [
            "Annie was born in a leap year\n"
          ]
        }
      ]
    },
    {
      "cell_type": "markdown",
      "source": [
        "2. In a school canteen, children under the age of 9 are only given milk porridge for breakfast. Children from 10 to 14 are given a sandwich, and children from 15 to 17 are given a burger. The canteen master asks the age of the student and gives them breakfast accordingly. Sam's age is 10. Use if-else statement to determine what the canteen master will offer to him."
      ],
      "metadata": {
        "id": "JgX8-omIcaiX"
      }
    },
    {
      "cell_type": "code",
      "source": [
        "age = 10\n",
        "if age <= 9:\n",
        "    print (\"Milk porridge for breakfast\")\n",
        "elif age >= 10 and age <= 14:\n",
        "    print (\"Sandwich for breakfast\")\n",
        "elif age >= 15 and age <= 17:\n",
        "    print(\"Burger for breakfast\")"
      ],
      "metadata": {
        "colab": {
          "base_uri": "https://localhost:8080/"
        },
        "id": "n5ji_uteceMl",
        "outputId": "42a9591f-f135-4e18-c713-edb16b5a8b6f"
      },
      "execution_count": 39,
      "outputs": [
        {
          "output_type": "stream",
          "name": "stdout",
          "text": [
            "Sandwich for breakfast\n"
          ]
        }
      ]
    },
    {
      "cell_type": "markdown",
      "source": [
        "## **Loops**"
      ],
      "metadata": {
        "id": "zFlDEP53c1PC"
      }
    },
    {
      "cell_type": "markdown",
      "source": [
        "Write a for loop the prints out all the element between -5 and 5 using the range function."
      ],
      "metadata": {
        "id": "Gc2EDG2Fc7a7"
      }
    },
    {
      "cell_type": "code",
      "source": [
        "for i in range(-4, 5):\n",
        "    print(i)"
      ],
      "metadata": {
        "colab": {
          "base_uri": "https://localhost:8080/"
        },
        "id": "DxvcaM6dc5eq",
        "outputId": "36a24688-611b-4f11-f4e9-c933754ae963"
      },
      "execution_count": 38,
      "outputs": [
        {
          "output_type": "stream",
          "name": "stdout",
          "text": [
            "-4\n",
            "-3\n",
            "-2\n",
            "-1\n",
            "0\n",
            "1\n",
            "2\n",
            "3\n",
            "4\n"
          ]
        }
      ]
    },
    {
      "cell_type": "markdown",
      "source": [
        "Print the elements of the following list: Genres=[ 'rock', 'R&B', 'Soundtrack', 'R&B', 'soul', 'pop'] Make sure you follow Python conventions."
      ],
      "metadata": {
        "id": "tMXL6_Zjc9Vb"
      }
    },
    {
      "cell_type": "code",
      "source": [
        "Genres = ['rock', 'R&B', 'Soundtrack', 'R&B', 'soul', 'pop']\n",
        "for Genres in Genres:\n",
        "    print(Genres)"
      ],
      "metadata": {
        "colab": {
          "base_uri": "https://localhost:8080/"
        },
        "id": "DW879cyIc9uE",
        "outputId": "92fbb4ed-6145-49f1-d932-8047f4ddd627"
      },
      "execution_count": 37,
      "outputs": [
        {
          "output_type": "stream",
          "name": "stdout",
          "text": [
            "rock\n",
            "R&B\n",
            "Soundtrack\n",
            "R&B\n",
            "soul\n",
            "pop\n"
          ]
        }
      ]
    },
    {
      "cell_type": "markdown",
      "source": [
        "Write a for loop that prints out the following list: squares=['red', 'yellow', 'green', 'purple', 'blue']"
      ],
      "metadata": {
        "id": "rABnmKnWdccv"
      }
    },
    {
      "cell_type": "code",
      "source": [
        "squares=['red', 'yellow', 'green', 'purple', 'blue']\n",
        "for squares in squares:\n",
        "    print(squares)"
      ],
      "metadata": {
        "colab": {
          "base_uri": "https://localhost:8080/"
        },
        "id": "y5l5h9vcdeLW",
        "outputId": "2f37ed01-5b82-443f-c166-9ff020afc682"
      },
      "execution_count": 36,
      "outputs": [
        {
          "output_type": "stream",
          "name": "stdout",
          "text": [
            "red\n",
            "yellow\n",
            "green\n",
            "purple\n",
            "blue\n"
          ]
        }
      ]
    },
    {
      "cell_type": "markdown",
      "source": [
        "Write a while loop to display the values of the Rating of an album playlist stored in the list PlayListRatings. If the score is less than 6, exit the loop. The list PlayListRatings is given by: PlayListRatings = [10, 9.5, 10, 8, 7.5, 5, 10, 10]"
      ],
      "metadata": {
        "id": "HsGdEcFgdi-4"
      }
    },
    {
      "cell_type": "code",
      "source": [
        "PlayListRatings = [10, 9.5, 10, 8, 7.5, 5, 10, 10]\n",
        "i = 0\n",
        "rating = PlayListRatings[0]\n",
        "while (i < len(PlayListRatings) and rating >= 6):\n",
        "    print(rating)\n",
        "    i = i + 1\n",
        "    rating = PlayListRatings[i]"
      ],
      "metadata": {
        "colab": {
          "base_uri": "https://localhost:8080/"
        },
        "id": "-6ethgpZdjU3",
        "outputId": "1ae8b65c-2944-479e-8b44-d1925e63869e"
      },
      "execution_count": 35,
      "outputs": [
        {
          "output_type": "stream",
          "name": "stdout",
          "text": [
            "10\n",
            "9.5\n",
            "10\n",
            "8\n",
            "7.5\n"
          ]
        }
      ]
    },
    {
      "cell_type": "markdown",
      "source": [
        "Write a while loop to copy the strings 'orange' of the list squares to the list new_squares. Stop and exit the loop if the value on the list is not 'orange':"
      ],
      "metadata": {
        "id": "2BxcCo3XdvER"
      }
    },
    {
      "cell_type": "code",
      "source": [
        "squares = ['orange', 'orange', 'purple', 'blue ', 'orange']\n",
        "new_squares = []\n",
        "i = 0\n",
        "while (i < len(squares) and squares[i] == 'orange'):\n",
        "    new_squares.append(squares[i])\n",
        "    i = i + 1\n",
        "print (new_squares)"
      ],
      "metadata": {
        "colab": {
          "base_uri": "https://localhost:8080/"
        },
        "id": "m4J_E0CJdvgA",
        "outputId": "d57a6291-74a1-49e9-baf7-452dfa4f0e9b"
      },
      "execution_count": 34,
      "outputs": [
        {
          "output_type": "stream",
          "name": "stdout",
          "text": [
            "['orange', 'orange']\n"
          ]
        }
      ]
    },
    {
      "cell_type": "markdown",
      "source": [
        "Your little brother has just learned multiplication tables in school. Today he has learned tables of 6 and 7. Help him memorise both the tables by printing them using for loop."
      ],
      "metadata": {
        "id": "POC6y9OGd3th"
      }
    },
    {
      "cell_type": "code",
      "source": [
        "print(\"Multiplication table of 6:\")\n",
        "for i in range (10):\n",
        "    print(\"6 x\",i,\"=\",6*i)\n",
        "print(\"Multiplication table of 7:\")\n",
        "for i in range (10):\n",
        "    print(\"7 x\",i,\"=\",7*i)"
      ],
      "metadata": {
        "colab": {
          "base_uri": "https://localhost:8080/"
        },
        "id": "JeQEU30xd38r",
        "outputId": "e662e510-dee7-4455-d397-0cf7e2de26f5"
      },
      "execution_count": 33,
      "outputs": [
        {
          "output_type": "stream",
          "name": "stdout",
          "text": [
            "Multiplication table of 6:\n",
            "6 x 0 = 0\n",
            "6 x 1 = 6\n",
            "6 x 2 = 12\n",
            "6 x 3 = 18\n",
            "6 x 4 = 24\n",
            "6 x 5 = 30\n",
            "6 x 6 = 36\n",
            "6 x 7 = 42\n",
            "6 x 8 = 48\n",
            "6 x 9 = 54\n",
            "Multiplication table of 7:\n",
            "7 x 0 = 0\n",
            "7 x 1 = 7\n",
            "7 x 2 = 14\n",
            "7 x 3 = 21\n",
            "7 x 4 = 28\n",
            "7 x 5 = 35\n",
            "7 x 6 = 42\n",
            "7 x 7 = 49\n",
            "7 x 8 = 56\n",
            "7 x 9 = 63\n"
          ]
        }
      ]
    },
    {
      "cell_type": "markdown",
      "source": [
        "The following is a list of animals in a National Zoo. Animals = [\"lion\", \"giraffe\", \"gorilla\", \"parrots\", \"crocodile\",\"deer\", \"swan\"]\n",
        "\n",
        "Your brother needs to write an essay on the animals whose names are made of 7 letters. Help him find those animals through a while loop and create a separate list of such animals."
      ],
      "metadata": {
        "id": "dMwZGi1keKPs"
      }
    },
    {
      "cell_type": "code",
      "source": [
        "Animals = [\"lion\", \"giraffe\", \"gorilla\", \"parrots\", \"crocodile\",\"deer\", \"swan\"]\n",
        "New = []\n",
        "i=0\n",
        "while i<len(Animals):\n",
        "      j=Animals[i]\n",
        "      if(len(j)==7):\n",
        "         New.append(j)\n",
        "      i=i+1\n",
        "print(New)"
      ],
      "metadata": {
        "colab": {
          "base_uri": "https://localhost:8080/"
        },
        "id": "fpYPUlQPgDVA",
        "outputId": "cbbb73fa-1f58-45b0-b71e-ddf0e7838d3c"
      },
      "execution_count": 32,
      "outputs": [
        {
          "output_type": "stream",
          "name": "stdout",
          "text": [
            "['giraffe', 'gorilla', 'parrots']\n"
          ]
        }
      ]
    }
  ]
}