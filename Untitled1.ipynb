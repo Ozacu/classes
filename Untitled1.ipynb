{
  "nbformat": 4,
  "nbformat_minor": 0,
  "metadata": {
    "colab": {
      "provenance": [],
      "authorship_tag": "ABX9TyNTgFdMnr+ciRz7W++ZD5kC"
    },
    "kernelspec": {
      "name": "python3",
      "display_name": "Python 3"
    },
    "language_info": {
      "name": "python"
    }
  },
  "cells": [
    {
      "cell_type": "code",
      "execution_count": 19,
      "metadata": {
        "colab": {
          "base_uri": "https://localhost:8080/"
        },
        "id": "s_BRnyMz-JuB",
        "outputId": "70aff55d-1f2c-4f3b-8cd8-ceea07b782be"
      },
      "outputs": [
        {
          "output_type": "stream",
          "name": "stdout",
          "text": [
            "Enter your name: Oscar\n",
            "Enter your country: Ecuador\n",
            "Enter your school: CCTB\n",
            "Enter your location of your school: Vancouver\n",
            "My name is Oscar from Ecuador studying at CCTB in Vancouver\n"
          ]
        }
      ],
      "source": [
        "name= input(\"Enter your name: \")\n",
        "country= input(\"Enter your country: \")\n",
        "school= input(\"Enter your school: \")\n",
        "location= input(\"Enter your location of your school: \")\n",
        "\n",
        "print(\"My name is \" + name + \" from \" + country + \" studying at \" + school + \" in \" + location)"
      ]
    },
    {
      "cell_type": "code",
      "source": [],
      "metadata": {
        "id": "f7e7gylZ_CQy"
      },
      "execution_count": null,
      "outputs": []
    }
  ]
}