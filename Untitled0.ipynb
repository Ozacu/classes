{
  "nbformat": 4,
  "nbformat_minor": 0,
  "metadata": {
    "colab": {
      "provenance": [],
      "authorship_tag": "ABX9TyPDURUGoLoxjtAaG7XN5vds",
      "include_colab_link": true
    },
    "kernelspec": {
      "name": "python3",
      "display_name": "Python 3"
    },
    "language_info": {
      "name": "python"
    }
  },
  "cells": [
    {
      "cell_type": "markdown",
      "metadata": {
        "id": "view-in-github",
        "colab_type": "text"
      },
      "source": [
        "<a href=\"https://colab.research.google.com/github/Ozacu/classes/blob/main/Untitled0.ipynb\" target=\"_parent\"><img src=\"https://colab.research.google.com/assets/colab-badge.svg\" alt=\"Open In Colab\"/></a>"
      ]
    },
    {
      "cell_type": "markdown",
      "source": [
        "\n",
        "Types of **Variables**\n",
        "1. Float\n",
        "2. Int\n",
        "3. Boolean/Bool\n",
        "4. String\n",
        "5. Array/List\n",
        "6. Date\n",
        "7. None (Its a Value/Variable) --- Its type is not known and its value is not known"
      ],
      "metadata": {
        "id": "SaWL_qgOW6no"
      }
    },
    {
      "cell_type": "markdown",
      "source": [
        "https://www.w3schools.com/python/"
      ],
      "metadata": {
        "id": "gHeQsBr-Yf5v"
      }
    },
    {
      "cell_type": "code",
      "source": [
        "age = 20 # Type of value is Integer or Numeric\n",
        "name = \"Tony\" # Type of value is Strin\n",
        "name = age\n",
        "age = None\n",
        "print(name, age)"
      ],
      "metadata": {
        "id": "YhDDxYnrT96Q"
      },
      "execution_count": null,
      "outputs": []
    }
  ]
}